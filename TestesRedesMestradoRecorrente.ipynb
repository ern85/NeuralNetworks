{
  "nbformat": 4,
  "nbformat_minor": 0,
  "metadata": {
    "colab": {
      "provenance": [],
      "mount_file_id": "1O1-_6ez7GkqVoOnYqVBF0fz4f80Iq6MJ",
      "authorship_tag": "ABX9TyMJMYBgzaWdyP0w9jkT+jAj",
      "include_colab_link": true
    },
    "kernelspec": {
      "display_name": "Python 3",
      "name": "python3"
    }
  },
  "cells": [
    {
      "cell_type": "markdown",
      "metadata": {
        "id": "view-in-github",
        "colab_type": "text"
      },
      "source": [
        "<a href=\"https://colab.research.google.com/github/ern85/NeuralNetworks/blob/main/TestesRedesMestradoRecorrente.ipynb\" target=\"_parent\"><img src=\"https://colab.research.google.com/assets/colab-badge.svg\" alt=\"Open In Colab\"/></a>"
      ]
    },
    {
      "cell_type": "code",
      "metadata": {
        "id": "__F_5tIM4MXz"
      },
      "source": [
        "AtivaStopWords = 0\n",
        "AtivaSteming = 0\n",
        "EPC = 50\n",
        "FuncaoAtivacao = 'sigmoid'\n",
        "Otimizador = 'Adam'"
      ],
      "execution_count": null,
      "outputs": []
    },
    {
      "cell_type": "code",
      "metadata": {
        "colab": {
          "base_uri": "https://localhost:8080/"
        },
        "id": "pN54JUegksYh",
        "outputId": "ee15cccb-22ed-4fdf-f4ed-91b6002d4210"
      },
      "source": [
        "import pandas as pd\n",
        "import numpy as np\n",
        "import re\n",
        "import nltk\n",
        "from nltk.corpus import stopwords\n",
        "nltk.download('rslp')\n",
        "nltk.download('stopwords')\n",
        "from nltk.stem import RSLPStemmer #Removedor de Sufixos da Língua Portuguesa\n",
        "\n",
        "from numpy import array\n",
        "from keras.preprocessing.text import one_hot\n",
        "from keras.preprocessing.sequence import pad_sequences\n",
        "from keras.models import Sequential\n",
        "from keras.layers.core import Activation, Dropout, Dense\n",
        "from keras.layers import Flatten\n",
        "from keras.layers import GlobalMaxPooling1D\n",
        "from keras.layers.embeddings import Embedding\n",
        "from sklearn.model_selection import train_test_split\n",
        "from keras.preprocessing.text import Tokenizer\n",
        "from keras.layers import Embedding\n",
        "from keras import backend as K\n",
        "nltk.download('punkt')\n",
        "import time\n",
        "\n",
        "startTotalTime = time.time()\n",
        "\n",
        "\n",
        "#opinion_reviews = pd.read_excel(\"/content/drive/MyDrive/Mestrado/RedeNeuralMestrado/AvalicoesAmazonFinal.xlsx\")\n",
        "#opinion_reviews = pd.read_excel(\"/content/drive/MyDrive/Mestrado/RedeNeuralMestrado/amazon_cells_labelled2colrminer.xlsx\")\n",
        "opinion_reviews = pd.read_excel(\"/content/drive/MyDrive/Mestrado/RedeNeuralMestrado/QuestionarioISP2.xlsx\")\n"
      ],
      "execution_count": null,
      "outputs": [
        {
          "output_type": "stream",
          "name": "stderr",
          "text": [
            "[nltk_data] Downloading package rslp to /root/nltk_data...\n",
            "[nltk_data]   Unzipping stemmers/rslp.zip.\n",
            "[nltk_data] Downloading package stopwords to /root/nltk_data...\n",
            "[nltk_data]   Unzipping corpora/stopwords.zip.\n",
            "[nltk_data] Downloading package punkt to /root/nltk_data...\n",
            "[nltk_data]   Unzipping tokenizers/punkt.zip.\n"
          ]
        }
      ]
    },
    {
      "cell_type": "code",
      "metadata": {
        "colab": {
          "base_uri": "https://localhost:8080/"
        },
        "id": "f7-MBh6r64UG",
        "outputId": "a2b49881-cef4-49e0-e01e-a976fffa5bcf"
      },
      "source": [
        "opinion_reviews.isnull().values.any()"
      ],
      "execution_count": null,
      "outputs": [
        {
          "output_type": "execute_result",
          "data": {
            "text/plain": [
              "False"
            ]
          },
          "metadata": {},
          "execution_count": 3
        }
      ]
    },
    {
      "cell_type": "code",
      "metadata": {
        "colab": {
          "base_uri": "https://localhost:8080/"
        },
        "id": "2MgeSYRw6--9",
        "outputId": "e6e5ad7b-1d0f-4204-9e2f-46352c258879"
      },
      "source": [
        "opinion_reviews.shape"
      ],
      "execution_count": null,
      "outputs": [
        {
          "output_type": "execute_result",
          "data": {
            "text/plain": [
              "(509, 2)"
            ]
          },
          "metadata": {},
          "execution_count": 4
        }
      ]
    },
    {
      "cell_type": "code",
      "metadata": {
        "colab": {
          "base_uri": "https://localhost:8080/",
          "height": 206
        },
        "id": "djZM7N3s7Gb_",
        "outputId": "d58b76b8-ed69-4f3a-9180-7935df0f5d75"
      },
      "source": [
        "opinion_reviews.head()"
      ],
      "execution_count": null,
      "outputs": [
        {
          "output_type": "execute_result",
          "data": {
            "text/plain": [
              "                                            Opinioes Sentimento\n",
              "0        Muito legal ver os produtos presencialmente          p\n",
              "1                                          Muito boa          p\n",
              "2  Gosto de comprar no isp porque o site é bastan...          p\n",
              "3  Gosto de comprar no isp porque o site é bastan...          p\n",
              "4                                        Competência          p"
            ],
            "text/html": [
              "\n",
              "  <div id=\"df-91bcdd4f-4d97-49ca-94ff-c1a3ef3893be\">\n",
              "    <div class=\"colab-df-container\">\n",
              "      <div>\n",
              "<style scoped>\n",
              "    .dataframe tbody tr th:only-of-type {\n",
              "        vertical-align: middle;\n",
              "    }\n",
              "\n",
              "    .dataframe tbody tr th {\n",
              "        vertical-align: top;\n",
              "    }\n",
              "\n",
              "    .dataframe thead th {\n",
              "        text-align: right;\n",
              "    }\n",
              "</style>\n",
              "<table border=\"1\" class=\"dataframe\">\n",
              "  <thead>\n",
              "    <tr style=\"text-align: right;\">\n",
              "      <th></th>\n",
              "      <th>Opinioes</th>\n",
              "      <th>Sentimento</th>\n",
              "    </tr>\n",
              "  </thead>\n",
              "  <tbody>\n",
              "    <tr>\n",
              "      <th>0</th>\n",
              "      <td>Muito legal ver os produtos presencialmente</td>\n",
              "      <td>p</td>\n",
              "    </tr>\n",
              "    <tr>\n",
              "      <th>1</th>\n",
              "      <td>Muito boa</td>\n",
              "      <td>p</td>\n",
              "    </tr>\n",
              "    <tr>\n",
              "      <th>2</th>\n",
              "      <td>Gosto de comprar no isp porque o site é bastan...</td>\n",
              "      <td>p</td>\n",
              "    </tr>\n",
              "    <tr>\n",
              "      <th>3</th>\n",
              "      <td>Gosto de comprar no isp porque o site é bastan...</td>\n",
              "      <td>p</td>\n",
              "    </tr>\n",
              "    <tr>\n",
              "      <th>4</th>\n",
              "      <td>Competência</td>\n",
              "      <td>p</td>\n",
              "    </tr>\n",
              "  </tbody>\n",
              "</table>\n",
              "</div>\n",
              "      <button class=\"colab-df-convert\" onclick=\"convertToInteractive('df-91bcdd4f-4d97-49ca-94ff-c1a3ef3893be')\"\n",
              "              title=\"Convert this dataframe to an interactive table.\"\n",
              "              style=\"display:none;\">\n",
              "        \n",
              "  <svg xmlns=\"http://www.w3.org/2000/svg\" height=\"24px\"viewBox=\"0 0 24 24\"\n",
              "       width=\"24px\">\n",
              "    <path d=\"M0 0h24v24H0V0z\" fill=\"none\"/>\n",
              "    <path d=\"M18.56 5.44l.94 2.06.94-2.06 2.06-.94-2.06-.94-.94-2.06-.94 2.06-2.06.94zm-11 1L8.5 8.5l.94-2.06 2.06-.94-2.06-.94L8.5 2.5l-.94 2.06-2.06.94zm10 10l.94 2.06.94-2.06 2.06-.94-2.06-.94-.94-2.06-.94 2.06-2.06.94z\"/><path d=\"M17.41 7.96l-1.37-1.37c-.4-.4-.92-.59-1.43-.59-.52 0-1.04.2-1.43.59L10.3 9.45l-7.72 7.72c-.78.78-.78 2.05 0 2.83L4 21.41c.39.39.9.59 1.41.59.51 0 1.02-.2 1.41-.59l7.78-7.78 2.81-2.81c.8-.78.8-2.07 0-2.86zM5.41 20L4 18.59l7.72-7.72 1.47 1.35L5.41 20z\"/>\n",
              "  </svg>\n",
              "      </button>\n",
              "      \n",
              "  <style>\n",
              "    .colab-df-container {\n",
              "      display:flex;\n",
              "      flex-wrap:wrap;\n",
              "      gap: 12px;\n",
              "    }\n",
              "\n",
              "    .colab-df-convert {\n",
              "      background-color: #E8F0FE;\n",
              "      border: none;\n",
              "      border-radius: 50%;\n",
              "      cursor: pointer;\n",
              "      display: none;\n",
              "      fill: #1967D2;\n",
              "      height: 32px;\n",
              "      padding: 0 0 0 0;\n",
              "      width: 32px;\n",
              "    }\n",
              "\n",
              "    .colab-df-convert:hover {\n",
              "      background-color: #E2EBFA;\n",
              "      box-shadow: 0px 1px 2px rgba(60, 64, 67, 0.3), 0px 1px 3px 1px rgba(60, 64, 67, 0.15);\n",
              "      fill: #174EA6;\n",
              "    }\n",
              "\n",
              "    [theme=dark] .colab-df-convert {\n",
              "      background-color: #3B4455;\n",
              "      fill: #D2E3FC;\n",
              "    }\n",
              "\n",
              "    [theme=dark] .colab-df-convert:hover {\n",
              "      background-color: #434B5C;\n",
              "      box-shadow: 0px 1px 3px 1px rgba(0, 0, 0, 0.15);\n",
              "      filter: drop-shadow(0px 1px 2px rgba(0, 0, 0, 0.3));\n",
              "      fill: #FFFFFF;\n",
              "    }\n",
              "  </style>\n",
              "\n",
              "      <script>\n",
              "        const buttonEl =\n",
              "          document.querySelector('#df-91bcdd4f-4d97-49ca-94ff-c1a3ef3893be button.colab-df-convert');\n",
              "        buttonEl.style.display =\n",
              "          google.colab.kernel.accessAllowed ? 'block' : 'none';\n",
              "\n",
              "        async function convertToInteractive(key) {\n",
              "          const element = document.querySelector('#df-91bcdd4f-4d97-49ca-94ff-c1a3ef3893be');\n",
              "          const dataTable =\n",
              "            await google.colab.kernel.invokeFunction('convertToInteractive',\n",
              "                                                     [key], {});\n",
              "          if (!dataTable) return;\n",
              "\n",
              "          const docLinkHtml = 'Like what you see? Visit the ' +\n",
              "            '<a target=\"_blank\" href=https://colab.research.google.com/notebooks/data_table.ipynb>data table notebook</a>'\n",
              "            + ' to learn more about interactive tables.';\n",
              "          element.innerHTML = '';\n",
              "          dataTable['output_type'] = 'display_data';\n",
              "          await google.colab.output.renderOutput(dataTable, element);\n",
              "          const docLink = document.createElement('div');\n",
              "          docLink.innerHTML = docLinkHtml;\n",
              "          element.appendChild(docLink);\n",
              "        }\n",
              "      </script>\n",
              "    </div>\n",
              "  </div>\n",
              "  "
            ]
          },
          "metadata": {},
          "execution_count": 5
        }
      ]
    },
    {
      "cell_type": "code",
      "metadata": {
        "colab": {
          "base_uri": "https://localhost:8080/",
          "height": 35
        },
        "id": "ID6cvB7S8DPc",
        "outputId": "cac69068-99dc-4a4e-bb47-c4b8db588ebb"
      },
      "source": [
        "opinion_reviews[\"Opinioes\"][3]"
      ],
      "execution_count": null,
      "outputs": [
        {
          "output_type": "execute_result",
          "data": {
            "text/plain": [
              "'Gosto de comprar no isp porque o site é bastante prático e os consultores são sempre atenciosos.'"
            ],
            "application/vnd.google.colaboratory.intrinsic+json": {
              "type": "string"
            }
          },
          "metadata": {},
          "execution_count": 6
        }
      ]
    },
    {
      "cell_type": "code",
      "metadata": {
        "colab": {
          "base_uri": "https://localhost:8080/",
          "height": 297
        },
        "id": "kCCJU4XP8Qgn",
        "outputId": "18caf391-f69e-49df-b62f-3d99b07be26d"
      },
      "source": [
        "import seaborn as sns\n",
        "\n",
        "sns.countplot(x='Sentimento', data=opinion_reviews)"
      ],
      "execution_count": null,
      "outputs": [
        {
          "output_type": "execute_result",
          "data": {
            "text/plain": [
              "<matplotlib.axes._subplots.AxesSubplot at 0x7fe4bc59ce50>"
            ]
          },
          "metadata": {},
          "execution_count": 7
        },
        {
          "output_type": "display_data",
          "data": {
            "text/plain": [
              "<Figure size 432x288 with 1 Axes>"
            ],
            "image/png": "[encoded data removed]"
          },
          "metadata": {
            "needs_background": "light"
          }
        }
      ]
    },
    {
      "cell_type": "markdown",
      "metadata": {
        "id": "hKAtaP3e4OA1"
      },
      "source": [
        "**Definição de parâmetros**"
      ]
    },
    {
      "cell_type": "markdown",
      "metadata": {
        "id": "FVySUKNT14Ge"
      },
      "source": [
        "**Iniciando Pré-processamento**"
      ]
    },
    {
      "cell_type": "code",
      "metadata": {
        "id": "elyvfR5r4Ttx"
      },
      "source": [
        "startPreProcTime = time.time()"
      ],
      "execution_count": null,
      "outputs": []
    },
    {
      "cell_type": "code",
      "metadata": {
        "id": "fVxoNv9G8eD6"
      },
      "source": [
        "def preprocess_text(sen):\n",
        "    # Removing html tags\n",
        "    sentence = remove_tags(sen)\n",
        "\n",
        "    # Remove punctuations and numbers\n",
        "    sentence = re.sub('[^a-zA-Z]', ' ', sentence)\n",
        "\n",
        "    # Single character removal\n",
        "    sentence = re.sub(r\"\\s+[a-zA-Z]\\s+\", ' ', sentence)\n",
        "\n",
        "    # Removing multiple spaces\n",
        "    sentence = re.sub(r'\\s+', ' ', sentence)\n",
        "\n",
        "    return sentence"
      ],
      "execution_count": null,
      "outputs": []
    },
    {
      "cell_type": "code",
      "metadata": {
        "id": "-Y8h-1oiz6Pv"
      },
      "source": [
        "#Retirar Stopwords\n",
        "def RemoveStopWords(sentence):\n",
        "    stopwords = nltk.corpus.stopwords.words('portuguese')\n",
        "    phrase = []\n",
        "    sentence = sentence.lower()\n",
        "    sentence = nltk.word_tokenize(sentence)\n",
        "    for word in sentence:\n",
        "        if word not in stopwords:\n",
        "            phrase.append(word)\n",
        "        \n",
        "    return ' '.join(phrase)"
      ],
      "execution_count": null,
      "outputs": []
    },
    {
      "cell_type": "code",
      "metadata": {
        "id": "k-mrydqc0COO"
      },
      "source": [
        "#Teste retirada de stopwords\n",
        "if AtivaStopWords == 1:\n",
        "  sentences = list(opinion_reviews['Opinioes'])\n",
        "  resultado_stopwords = []\n",
        "  for frase in sentences:\n",
        "   resultado_stopwords.append(RemoveStopWords(frase))\n",
        "  print(resultado_stopwords[2])"
      ],
      "execution_count": null,
      "outputs": []
    },
    {
      "cell_type": "code",
      "metadata": {
        "id": "Ei-VQ0CHPFCQ"
      },
      "source": [
        "#Stemming\n",
        "def Stemming(sentence):\n",
        "    stemmer = RSLPStemmer()\n",
        "    phrase = []\n",
        "    sentence = nltk.word_tokenize(sentence)\n",
        "    for word in sentence:\n",
        "        phrase.append(stemmer.stem(word.lower()))\n",
        "    return ' '.join(phrase)"
      ],
      "execution_count": null,
      "outputs": []
    },
    {
      "cell_type": "code",
      "metadata": {
        "id": "vyD-p6C2PHwo"
      },
      "source": [
        "#Teste Stemming\n",
        "if AtivaSteming == 1:\n",
        "  if AtivaStopWords == 1:\n",
        "    sentences = list(resultado_stopwords)\n",
        "  else:\n",
        "    sentences = list(opinion_reviews['Opinioes'])\n",
        "  resultado_stem = []\n",
        "  for frase in sentences:\n",
        "    resultado_stem.append(Stemming(frase))\n",
        "  print(resultado_stem[1])"
      ],
      "execution_count": null,
      "outputs": []
    },
    {
      "cell_type": "code",
      "metadata": {
        "id": "fUby5PN48pkb"
      },
      "source": [
        "TAG_RE = re.compile(r'<[^>]+>')\n",
        "\n",
        "def remove_tags(text):\n",
        "    return TAG_RE.sub('', text)"
      ],
      "execution_count": null,
      "outputs": []
    },
    {
      "cell_type": "code",
      "metadata": {
        "id": "RtsXBPiw8tZ0"
      },
      "source": [
        "X = []\n",
        "if AtivaStopWords == 1:\n",
        "  sentences = list(resultado_stopwords)\n",
        "elif AtivaSteming == 1:\n",
        "  sentences = list(resultado_stem)\n",
        "else: \n",
        "  sentences = list(opinion_reviews['Opinioes'])\n",
        "for sen in sentences:\n",
        "    X.append(preprocess_text(sen))"
      ],
      "execution_count": null,
      "outputs": []
    },
    {
      "cell_type": "code",
      "metadata": {
        "colab": {
          "base_uri": "https://localhost:8080/",
          "height": 35
        },
        "id": "DGqdH9UD8y75",
        "outputId": "9bd9dc68-8f35-4a18-bf39-0abd009ad9b5"
      },
      "source": [
        "X[3]"
      ],
      "execution_count": null,
      "outputs": [
        {
          "output_type": "execute_result",
          "data": {
            "text/plain": [
              "'Gosto de comprar no isp porque site bastante pr tico os consultores o sempre atenciosos '"
            ],
            "application/vnd.google.colaboratory.intrinsic+json": {
              "type": "string"
            }
          },
          "metadata": {},
          "execution_count": 16
        }
      ]
    },
    {
      "cell_type": "code",
      "metadata": {
        "colab": {
          "base_uri": "https://localhost:8080/"
        },
        "id": "DmgDvCPJ5DBv",
        "outputId": "e99051fe-894b-4f10-adb4-6637b655f119"
      },
      "source": [
        "elapsed_time_pre = time.time() - startPreProcTime\n",
        "print(\"Tempo de pre-processamento\",elapsed_time_pre)"
      ],
      "execution_count": null,
      "outputs": [
        {
          "output_type": "stream",
          "name": "stdout",
          "text": [
            "Tempo de pre-processamento 48.889897108078\n"
          ]
        }
      ]
    },
    {
      "cell_type": "code",
      "metadata": {
        "id": "syzWG4bX89Tw"
      },
      "source": [
        "y = opinion_reviews['Sentimento']\n",
        "\n",
        "y = np.array(list(map(lambda x: 1 if x==\"p\" else 0, y)))"
      ],
      "execution_count": null,
      "outputs": []
    },
    {
      "cell_type": "code",
      "metadata": {
        "id": "h28u8QXV9G4g"
      },
      "source": [
        "X_train, X_test, y_train, y_test = train_test_split(X, y, test_size=0.30, train_size= 0.70, random_state=42)"
      ],
      "execution_count": null,
      "outputs": []
    },
    {
      "cell_type": "code",
      "metadata": {
        "id": "mT5Fzajh9Kw5"
      },
      "source": [
        "tokenizer = Tokenizer(num_words=5000)\n",
        "tokenizer.fit_on_texts(X_train)\n",
        "\n",
        "X_train = tokenizer.texts_to_sequences(X_train)\n",
        "X_test = tokenizer.texts_to_sequences(X_test)"
      ],
      "execution_count": null,
      "outputs": []
    },
    {
      "cell_type": "code",
      "metadata": {
        "id": "0ekyy1269PjE"
      },
      "source": [
        "vocab_size = len(tokenizer.word_index) + 1\n",
        "\n",
        "maxlen = 50\n",
        "\n",
        "X_train = pad_sequences(X_train, padding='post', maxlen=maxlen)\n",
        "X_test = pad_sequences(X_test, padding='post', maxlen=maxlen)\n"
      ],
      "execution_count": null,
      "outputs": []
    },
    {
      "cell_type": "code",
      "metadata": {
        "id": "2D3z87iC9VRL"
      },
      "source": [
        "from numpy import array\n",
        "from numpy import asarray\n",
        "from numpy import zeros\n",
        "import re\n",
        "\n",
        "embeddings_dictionary = dict()\n",
        "#glove_file = open('/content/drive/MyDrive/glove_s50.txt', encoding=\"utf8\")\n",
        "glove_file = open('/content/drive/MyDrive/glove.6B.50d.txt', encoding=\"utf8\")\n",
        "for i, line in enumerate(glove_file):\n",
        "    try:\n",
        "      line = line.strip()\n",
        "      if line == \"\":\n",
        "        continue\n",
        "      line = line.replace(\",\",\".\")\n",
        "      records = line.split()\n",
        "      word = records[0]\n",
        "      vector_dimensions = asarray(records[1:], dtype='float32')\n",
        "      embeddings_dictionary [word] = vector_dimensions\n",
        "    except:\n",
        "      print (i)\n",
        "glove_file.close()"
      ],
      "execution_count": null,
      "outputs": []
    },
    {
      "cell_type": "code",
      "metadata": {
        "id": "oQuydLnUjx9O"
      },
      "source": [
        "embedding_matrix = zeros((vocab_size, 50))\n",
        "for word, index in tokenizer.word_index.items():\n",
        "    embedding_vector = embeddings_dictionary.get(word)\n",
        "    if embedding_vector is not None:\n",
        "        embedding_matrix[index] = embedding_vector"
      ],
      "execution_count": null,
      "outputs": []
    },
    {
      "cell_type": "code",
      "metadata": {
        "id": "wgkxjYjF8C8M"
      },
      "source": [
        "def recall_m(y_true, y_pred):\n",
        "    true_positives = K.sum(K.round(K.clip(y_true * y_pred, 0, 1)))\n",
        "    possible_positives = K.sum(K.round(K.clip(y_true, 0, 1)))\n",
        "    recall = true_positives / (possible_positives + K.epsilon())\n",
        "    return recall\n",
        "\n",
        "def precision_m(y_true, y_pred):\n",
        "    true_positives = K.sum(K.round(K.clip(y_true * y_pred, 0, 1)))\n",
        "    predicted_positives = K.sum(K.round(K.clip(y_pred, 0, 1)))\n",
        "    precision = true_positives / (predicted_positives + K.epsilon())\n",
        "    return precision\n",
        "\n",
        "def f1_m(y_true, y_pred):\n",
        "    precision = precision_m(y_true, y_pred)\n",
        "    recall = recall_m(y_true, y_pred)\n",
        "    return 2*((precision*recall)/(precision+recall+K.epsilon()))"
      ],
      "execution_count": null,
      "outputs": []
    },
    {
      "cell_type": "code",
      "metadata": {
        "id": "ui8OvLb8_lLM"
      },
      "source": [
        "from keras.layers.recurrent import LSTM\n",
        "model = Sequential()\n",
        "embedding_layer = Embedding(vocab_size, 50, weights=[embedding_matrix], input_length=maxlen , trainable=False)\n",
        "model.add(embedding_layer)\n",
        "model.add(LSTM(128))\n",
        "model.add(Dense(50,activation='relu'))\n",
        "model.add(Dense(1, activation=FuncaoAtivacao))\n",
        "model.compile(optimizer=Otimizador, loss='binary_crossentropy', metrics=['acc', f1_m, precision_m, recall_m])"
      ],
      "execution_count": null,
      "outputs": []
    },
    {
      "cell_type": "code",
      "metadata": {
        "colab": {
          "base_uri": "https://localhost:8080/"
        },
        "id": "dP5_NBTwBf9w",
        "outputId": "f71b63d6-0608-4dff-8f20-2d8b02913e1e"
      },
      "source": [
        "print(model.summary())"
      ],
      "execution_count": null,
      "outputs": [
        {
          "output_type": "stream",
          "name": "stdout",
          "text": [
            "Model: \"sequential\"\n",
            "_________________________________________________________________\n",
            " Layer (type)                Output Shape              Param #   \n",
            "=================================================================\n",
            " embedding (Embedding)       (None, 50, 50)            21600     \n",
            "                                                                 \n",
            " lstm (LSTM)                 (None, 128)               91648     \n",
            "                                                                 \n",
            " dense (Dense)               (None, 50)                6450      \n",
            "                                                                 \n",
            " dense_1 (Dense)             (None, 1)                 51        \n",
            "                                                                 \n",
            "=================================================================\n",
            "Total params: 119,749\n",
            "Trainable params: 98,149\n",
            "Non-trainable params: 21,600\n",
            "_________________________________________________________________\n",
            "None\n"
          ]
        }
      ]
    },
    {
      "cell_type": "code",
      "metadata": {
        "colab": {
          "base_uri": "https://localhost:8080/"
        },
        "id": "cpSQPNyGBi78",
        "outputId": "f83d428a-e464-4483-804d-7cef5ef86fa6"
      },
      "source": [
        "start_time = time.time()\n",
        "history = model.fit(X_train, y_train, batch_size=128, epochs=EPC, verbose=1, validation_split=0.3)\n",
        "\n",
        "score = model.evaluate(X_test, y_test, verbose=1)\n",
        "elapsed_time = time.time() - start_time\n",
        "print (\"processing time:\", elapsed_time, \"seconds\")"
      ],
      "execution_count": null,
      "outputs": [
        {
          "output_type": "stream",
          "name": "stdout",
          "text": [
            "Epoch 1/50\n",
            "2/2 [==============================] - 5s 812ms/step - loss: 0.6909 - acc: 0.8032 - f1_m: 0.8824 - precision_m: 0.9527 - recall_m: 0.8417 - val_loss: 0.6812 - val_acc: 0.9439 - val_f1_m: 0.9712 - val_precision_m: 0.9439 - val_recall_m: 1.0000\n",
            "Epoch 2/50\n",
            "2/2 [==============================] - 0s 257ms/step - loss: 0.6773 - acc: 0.9277 - f1_m: 0.9625 - precision_m: 0.9277 - recall_m: 1.0000 - val_loss: 0.6629 - val_acc: 0.9439 - val_f1_m: 0.9712 - val_precision_m: 0.9439 - val_recall_m: 1.0000\n",
            "Epoch 3/50\n",
            "2/2 [==============================] - 0s 259ms/step - loss: 0.6576 - acc: 0.9277 - f1_m: 0.9621 - precision_m: 0.9272 - recall_m: 1.0000 - val_loss: 0.6334 - val_acc: 0.9439 - val_f1_m: 0.9712 - val_precision_m: 0.9439 - val_recall_m: 1.0000\n",
            "Epoch 4/50\n",
            "2/2 [==============================] - 0s 242ms/step - loss: 0.6240 - acc: 0.9277 - f1_m: 0.9625 - precision_m: 0.9277 - recall_m: 1.0000 - val_loss: 0.5749 - val_acc: 0.9439 - val_f1_m: 0.9712 - val_precision_m: 0.9439 - val_recall_m: 1.0000\n",
            "Epoch 5/50\n",
            "2/2 [==============================] - 0s 254ms/step - loss: 0.5542 - acc: 0.9277 - f1_m: 0.9623 - precision_m: 0.9274 - recall_m: 1.0000 - val_loss: 0.4203 - val_acc: 0.9439 - val_f1_m: 0.9712 - val_precision_m: 0.9439 - val_recall_m: 1.0000\n",
            "Epoch 6/50\n",
            "2/2 [==============================] - 0s 244ms/step - loss: 0.3864 - acc: 0.9277 - f1_m: 0.9625 - precision_m: 0.9277 - recall_m: 1.0000 - val_loss: 0.2438 - val_acc: 0.9439 - val_f1_m: 0.9712 - val_precision_m: 0.9439 - val_recall_m: 1.0000\n",
            "Epoch 7/50\n",
            "2/2 [==============================] - 0s 245ms/step - loss: 0.3505 - acc: 0.9277 - f1_m: 0.9623 - precision_m: 0.9274 - recall_m: 1.0000 - val_loss: 0.2696 - val_acc: 0.9439 - val_f1_m: 0.9712 - val_precision_m: 0.9439 - val_recall_m: 1.0000\n",
            "Epoch 8/50\n",
            "2/2 [==============================] - 0s 241ms/step - loss: 0.3358 - acc: 0.9277 - f1_m: 0.9623 - precision_m: 0.9274 - recall_m: 1.0000 - val_loss: 0.2278 - val_acc: 0.9439 - val_f1_m: 0.9712 - val_precision_m: 0.9439 - val_recall_m: 1.0000\n",
            "Epoch 9/50\n",
            "2/2 [==============================] - 0s 215ms/step - loss: 0.2793 - acc: 0.9277 - f1_m: 0.9626 - precision_m: 0.9279 - recall_m: 1.0000 - val_loss: 0.2210 - val_acc: 0.9439 - val_f1_m: 0.9712 - val_precision_m: 0.9439 - val_recall_m: 1.0000\n",
            "Epoch 10/50\n",
            "2/2 [==============================] - 0s 224ms/step - loss: 0.2646 - acc: 0.9277 - f1_m: 0.9626 - precision_m: 0.9279 - recall_m: 1.0000 - val_loss: 0.2493 - val_acc: 0.9439 - val_f1_m: 0.9712 - val_precision_m: 0.9439 - val_recall_m: 1.0000\n",
            "Epoch 11/50\n",
            "2/2 [==============================] - 0s 216ms/step - loss: 0.2768 - acc: 0.9277 - f1_m: 0.9627 - precision_m: 0.9281 - recall_m: 1.0000 - val_loss: 0.2478 - val_acc: 0.9439 - val_f1_m: 0.9712 - val_precision_m: 0.9439 - val_recall_m: 1.0000\n",
            "Epoch 12/50\n",
            "2/2 [==============================] - 0s 226ms/step - loss: 0.2641 - acc: 0.9277 - f1_m: 0.9627 - precision_m: 0.9283 - recall_m: 1.0000 - val_loss: 0.2243 - val_acc: 0.9346 - val_f1_m: 0.9662 - val_precision_m: 0.9434 - val_recall_m: 0.9901\n",
            "Epoch 13/50\n",
            "2/2 [==============================] - 0s 216ms/step - loss: 0.2313 - acc: 0.9357 - f1_m: 0.9662 - precision_m: 0.9386 - recall_m: 0.9955 - val_loss: 0.2108 - val_acc: 0.9252 - val_f1_m: 0.9604 - val_precision_m: 0.9604 - val_recall_m: 0.9604\n",
            "Epoch 14/50\n",
            "2/2 [==============================] - 0s 235ms/step - loss: 0.2089 - acc: 0.9277 - f1_m: 0.9612 - precision_m: 0.9529 - recall_m: 0.9698 - val_loss: 0.2082 - val_acc: 0.9252 - val_f1_m: 0.9604 - val_precision_m: 0.9604 - val_recall_m: 0.9604\n",
            "Epoch 15/50\n",
            "2/2 [==============================] - 0s 233ms/step - loss: 0.1919 - acc: 0.9357 - f1_m: 0.9654 - precision_m: 0.9613 - recall_m: 0.9698 - val_loss: 0.2344 - val_acc: 0.9252 - val_f1_m: 0.9612 - val_precision_m: 0.9429 - val_recall_m: 0.9802\n",
            "Epoch 16/50\n",
            "2/2 [==============================] - 0s 215ms/step - loss: 0.1819 - acc: 0.9518 - f1_m: 0.9743 - precision_m: 0.9618 - recall_m: 0.9872 - val_loss: 0.2357 - val_acc: 0.9439 - val_f1_m: 0.9712 - val_precision_m: 0.9439 - val_recall_m: 1.0000\n",
            "Epoch 17/50\n",
            "2/2 [==============================] - 0s 228ms/step - loss: 0.1935 - acc: 0.9518 - f1_m: 0.9744 - precision_m: 0.9541 - recall_m: 0.9958 - val_loss: 0.2798 - val_acc: 0.9159 - val_f1_m: 0.9561 - val_precision_m: 0.9423 - val_recall_m: 0.9703\n",
            "Epoch 18/50\n",
            "2/2 [==============================] - 0s 218ms/step - loss: 0.1853 - acc: 0.9438 - f1_m: 0.9696 - precision_m: 0.9615 - recall_m: 0.9779 - val_loss: 0.3106 - val_acc: 0.8972 - val_f1_m: 0.9458 - val_precision_m: 0.9412 - val_recall_m: 0.9505\n",
            "Epoch 19/50\n",
            "2/2 [==============================] - 0s 220ms/step - loss: 0.1796 - acc: 0.9398 - f1_m: 0.9675 - precision_m: 0.9709 - recall_m: 0.9648 - val_loss: 0.2818 - val_acc: 0.9065 - val_f1_m: 0.9510 - val_precision_m: 0.9417 - val_recall_m: 0.9604\n",
            "Epoch 20/50\n",
            "2/2 [==============================] - 0s 232ms/step - loss: 0.1848 - acc: 0.9438 - f1_m: 0.9703 - precision_m: 0.9578 - recall_m: 0.9832 - val_loss: 0.2308 - val_acc: 0.9439 - val_f1_m: 0.9712 - val_precision_m: 0.9439 - val_recall_m: 1.0000\n",
            "Epoch 21/50\n",
            "2/2 [==============================] - 0s 219ms/step - loss: 0.1759 - acc: 0.9558 - f1_m: 0.9769 - precision_m: 0.9594 - recall_m: 0.9957 - val_loss: 0.2355 - val_acc: 0.9346 - val_f1_m: 0.9662 - val_precision_m: 0.9434 - val_recall_m: 0.9901\n",
            "Epoch 22/50\n",
            "2/2 [==============================] - 0s 230ms/step - loss: 0.1520 - acc: 0.9558 - f1_m: 0.9768 - precision_m: 0.9627 - recall_m: 0.9913 - val_loss: 0.2597 - val_acc: 0.8879 - val_f1_m: 0.9400 - val_precision_m: 0.9495 - val_recall_m: 0.9307\n",
            "Epoch 23/50\n",
            "2/2 [==============================] - 0s 227ms/step - loss: 0.2231 - acc: 0.9036 - f1_m: 0.9465 - precision_m: 0.9735 - recall_m: 0.9220 - val_loss: 0.2226 - val_acc: 0.9065 - val_f1_m: 0.9495 - val_precision_m: 0.9691 - val_recall_m: 0.9307\n",
            "Epoch 24/50\n",
            "2/2 [==============================] - 0s 246ms/step - loss: 0.1779 - acc: 0.9357 - f1_m: 0.9653 - precision_m: 0.9736 - recall_m: 0.9573 - val_loss: 0.2158 - val_acc: 0.9252 - val_f1_m: 0.9612 - val_precision_m: 0.9429 - val_recall_m: 0.9802\n",
            "Epoch 25/50\n",
            "2/2 [==============================] - 0s 236ms/step - loss: 0.1542 - acc: 0.9639 - f1_m: 0.9809 - precision_m: 0.9704 - recall_m: 0.9916 - val_loss: 0.2126 - val_acc: 0.9439 - val_f1_m: 0.9712 - val_precision_m: 0.9439 - val_recall_m: 1.0000\n",
            "Epoch 26/50\n",
            "2/2 [==============================] - 0s 232ms/step - loss: 0.1663 - acc: 0.9598 - f1_m: 0.9787 - precision_m: 0.9624 - recall_m: 0.9957 - val_loss: 0.2146 - val_acc: 0.9439 - val_f1_m: 0.9712 - val_precision_m: 0.9439 - val_recall_m: 1.0000\n",
            "Epoch 27/50\n",
            "2/2 [==============================] - 0s 242ms/step - loss: 0.1778 - acc: 0.9478 - f1_m: 0.9727 - precision_m: 0.9468 - recall_m: 1.0000 - val_loss: 0.2169 - val_acc: 0.9439 - val_f1_m: 0.9712 - val_precision_m: 0.9439 - val_recall_m: 1.0000\n",
            "Epoch 28/50\n",
            "2/2 [==============================] - 0s 250ms/step - loss: 0.1615 - acc: 0.9639 - f1_m: 0.9807 - precision_m: 0.9623 - recall_m: 1.0000 - val_loss: 0.2203 - val_acc: 0.9439 - val_f1_m: 0.9712 - val_precision_m: 0.9439 - val_recall_m: 1.0000\n",
            "Epoch 29/50\n",
            "2/2 [==============================] - 0s 219ms/step - loss: 0.1522 - acc: 0.9679 - f1_m: 0.9829 - precision_m: 0.9706 - recall_m: 0.9957 - val_loss: 0.2205 - val_acc: 0.9439 - val_f1_m: 0.9712 - val_precision_m: 0.9439 - val_recall_m: 1.0000\n",
            "Epoch 30/50\n",
            "2/2 [==============================] - 0s 220ms/step - loss: 0.1424 - acc: 0.9679 - f1_m: 0.9824 - precision_m: 0.9739 - recall_m: 0.9910 - val_loss: 0.2175 - val_acc: 0.9346 - val_f1_m: 0.9659 - val_precision_m: 0.9519 - val_recall_m: 0.9802\n",
            "Epoch 31/50\n",
            "2/2 [==============================] - 0s 222ms/step - loss: 0.1449 - acc: 0.9598 - f1_m: 0.9784 - precision_m: 0.9742 - recall_m: 0.9829 - val_loss: 0.2358 - val_acc: 0.9252 - val_f1_m: 0.9608 - val_precision_m: 0.9515 - val_recall_m: 0.9703\n",
            "Epoch 32/50\n",
            "2/2 [==============================] - 0s 224ms/step - loss: 0.1488 - acc: 0.9598 - f1_m: 0.9781 - precision_m: 0.9741 - recall_m: 0.9821 - val_loss: 0.2265 - val_acc: 0.9346 - val_f1_m: 0.9659 - val_precision_m: 0.9519 - val_recall_m: 0.9802\n",
            "Epoch 33/50\n",
            "2/2 [==============================] - 0s 228ms/step - loss: 0.1443 - acc: 0.9598 - f1_m: 0.9786 - precision_m: 0.9744 - recall_m: 0.9828 - val_loss: 0.2131 - val_acc: 0.9439 - val_f1_m: 0.9709 - val_precision_m: 0.9524 - val_recall_m: 0.9901\n",
            "Epoch 34/50\n",
            "2/2 [==============================] - 0s 220ms/step - loss: 0.1375 - acc: 0.9639 - f1_m: 0.9806 - precision_m: 0.9745 - recall_m: 0.9871 - val_loss: 0.2231 - val_acc: 0.9439 - val_f1_m: 0.9712 - val_precision_m: 0.9439 - val_recall_m: 1.0000\n",
            "Epoch 35/50\n",
            "2/2 [==============================] - 0s 216ms/step - loss: 0.1391 - acc: 0.9639 - f1_m: 0.9804 - precision_m: 0.9700 - recall_m: 0.9913 - val_loss: 0.2207 - val_acc: 0.9439 - val_f1_m: 0.9712 - val_precision_m: 0.9439 - val_recall_m: 1.0000\n",
            "Epoch 36/50\n",
            "2/2 [==============================] - 0s 223ms/step - loss: 0.1326 - acc: 0.9679 - f1_m: 0.9828 - precision_m: 0.9744 - recall_m: 0.9913 - val_loss: 0.2024 - val_acc: 0.9533 - val_f1_m: 0.9758 - val_precision_m: 0.9528 - val_recall_m: 1.0000\n",
            "Epoch 37/50\n",
            "2/2 [==============================] - 0s 220ms/step - loss: 0.1328 - acc: 0.9679 - f1_m: 0.9828 - precision_m: 0.9745 - recall_m: 0.9913 - val_loss: 0.2042 - val_acc: 0.9439 - val_f1_m: 0.9709 - val_precision_m: 0.9524 - val_recall_m: 0.9901\n",
            "Epoch 38/50\n",
            "2/2 [==============================] - 0s 232ms/step - loss: 0.1330 - acc: 0.9679 - f1_m: 0.9828 - precision_m: 0.9744 - recall_m: 0.9913 - val_loss: 0.2046 - val_acc: 0.9439 - val_f1_m: 0.9709 - val_precision_m: 0.9524 - val_recall_m: 0.9901\n",
            "Epoch 39/50\n",
            "2/2 [==============================] - 0s 247ms/step - loss: 0.1334 - acc: 0.9679 - f1_m: 0.9826 - precision_m: 0.9742 - recall_m: 0.9911 - val_loss: 0.2068 - val_acc: 0.9439 - val_f1_m: 0.9709 - val_precision_m: 0.9524 - val_recall_m: 0.9901\n",
            "Epoch 40/50\n",
            "2/2 [==============================] - 0s 245ms/step - loss: 0.1331 - acc: 0.9679 - f1_m: 0.9829 - precision_m: 0.9748 - recall_m: 0.9913 - val_loss: 0.2032 - val_acc: 0.9439 - val_f1_m: 0.9709 - val_precision_m: 0.9524 - val_recall_m: 0.9901\n",
            "Epoch 41/50\n",
            "2/2 [==============================] - 0s 244ms/step - loss: 0.1325 - acc: 0.9679 - f1_m: 0.9828 - precision_m: 0.9745 - recall_m: 0.9913 - val_loss: 0.2025 - val_acc: 0.9439 - val_f1_m: 0.9709 - val_precision_m: 0.9524 - val_recall_m: 0.9901\n",
            "Epoch 42/50\n",
            "2/2 [==============================] - 0s 229ms/step - loss: 0.1319 - acc: 0.9679 - f1_m: 0.9829 - precision_m: 0.9745 - recall_m: 0.9915 - val_loss: 0.2019 - val_acc: 0.9533 - val_f1_m: 0.9758 - val_precision_m: 0.9528 - val_recall_m: 1.0000\n",
            "Epoch 43/50\n",
            "2/2 [==============================] - 0s 229ms/step - loss: 0.1313 - acc: 0.9679 - f1_m: 0.9828 - precision_m: 0.9744 - recall_m: 0.9913 - val_loss: 0.1998 - val_acc: 0.9533 - val_f1_m: 0.9758 - val_precision_m: 0.9528 - val_recall_m: 1.0000\n",
            "Epoch 44/50\n",
            "2/2 [==============================] - 0s 219ms/step - loss: 0.1312 - acc: 0.9679 - f1_m: 0.9832 - precision_m: 0.9753 - recall_m: 0.9913 - val_loss: 0.1989 - val_acc: 0.9533 - val_f1_m: 0.9758 - val_precision_m: 0.9528 - val_recall_m: 1.0000\n",
            "Epoch 45/50\n",
            "2/2 [==============================] - 0s 215ms/step - loss: 0.1313 - acc: 0.9679 - f1_m: 0.9824 - precision_m: 0.9738 - recall_m: 0.9913 - val_loss: 0.1998 - val_acc: 0.9533 - val_f1_m: 0.9758 - val_precision_m: 0.9528 - val_recall_m: 1.0000\n",
            "Epoch 46/50\n",
            "2/2 [==============================] - 0s 217ms/step - loss: 0.1309 - acc: 0.9679 - f1_m: 0.9832 - precision_m: 0.9750 - recall_m: 0.9915 - val_loss: 0.1998 - val_acc: 0.9533 - val_f1_m: 0.9758 - val_precision_m: 0.9528 - val_recall_m: 1.0000\n",
            "Epoch 47/50\n",
            "2/2 [==============================] - 0s 214ms/step - loss: 0.1305 - acc: 0.9679 - f1_m: 0.9830 - precision_m: 0.9750 - recall_m: 0.9913 - val_loss: 0.1997 - val_acc: 0.9533 - val_f1_m: 0.9758 - val_precision_m: 0.9528 - val_recall_m: 1.0000\n",
            "Epoch 48/50\n",
            "2/2 [==============================] - 0s 234ms/step - loss: 0.1299 - acc: 0.9679 - f1_m: 0.9828 - precision_m: 0.9745 - recall_m: 0.9913 - val_loss: 0.2004 - val_acc: 0.9533 - val_f1_m: 0.9758 - val_precision_m: 0.9528 - val_recall_m: 1.0000\n",
            "Epoch 49/50\n",
            "2/2 [==============================] - 0s 243ms/step - loss: 0.1293 - acc: 0.9679 - f1_m: 0.9828 - precision_m: 0.9745 - recall_m: 0.9913 - val_loss: 0.2034 - val_acc: 0.9439 - val_f1_m: 0.9712 - val_precision_m: 0.9439 - val_recall_m: 1.0000\n",
            "Epoch 50/50\n",
            "2/2 [==============================] - 0s 218ms/step - loss: 0.1292 - acc: 0.9679 - f1_m: 0.9828 - precision_m: 0.9744 - recall_m: 0.9916 - val_loss: 0.2129 - val_acc: 0.9439 - val_f1_m: 0.9712 - val_precision_m: 0.9439 - val_recall_m: 1.0000\n",
            "5/5 [==============================] - 0s 18ms/step - loss: 0.2048 - acc: 0.9412 - f1_m: 0.9690 - precision_m: 0.9544 - recall_m: 0.9849\n",
            "processing time: 44.75795602798462 seconds\n"
          ]
        }
      ]
    },
    {
      "cell_type": "code",
      "metadata": {
        "id": "dlgDJ5hn57hJ"
      },
      "source": [
        "elapsedTotalTime = time.time() - startTotalTime"
      ],
      "execution_count": null,
      "outputs": []
    },
    {
      "cell_type": "code",
      "metadata": {
        "colab": {
          "base_uri": "https://localhost:8080/"
        },
        "id": "khfA3GkVBkxv",
        "outputId": "717b525c-1106-4cec-b1be-eab512776fff"
      },
      "source": [
        "print(\"Test Score:\", score[0])\n",
        "print(\"Test Accuracy:\", score[1])"
      ],
      "execution_count": null,
      "outputs": [
        {
          "output_type": "stream",
          "name": "stdout",
          "text": [
            "Test Score: 0.20475243031978607\n",
            "Test Accuracy: 0.9411764740943909\n"
          ]
        }
      ]
    },
    {
      "cell_type": "code",
      "metadata": {
        "colab": {
          "base_uri": "https://localhost:8080/"
        },
        "id": "F6bV6q4Q75wF",
        "outputId": "4bc3d9f6-fad2-4490-b2cf-b1825a8c0bb4"
      },
      "source": [
        "loss, accuracy, f1_score, precision, recall = model.evaluate(X_test, y_test, verbose=0)\n",
        "print(\"Loss:\", round(loss,8))\n",
        "print(\"Accuracy:\", round(accuracy,8))\n",
        "print(\"Precision:\", round(precision,8))\n",
        "print(\"Recall\", round(recall,8))\n",
        "print(\"F1_Score:\", round(f1_score,8))\n",
        "print(\"Tempo de processamento da rede:\", str(elapsed_time).replace(\".\", \",\"))\n",
        "print(\"Tempo de pre-processamento:\",str(elapsed_time_pre).replace(\".\", \",\"))\n",
        "print(\"Tempo total:\", str(elapsedTotalTime).replace(\".\", \",\"))\n"
      ],
      "execution_count": null,
      "outputs": [
        {
          "output_type": "stream",
          "name": "stdout",
          "text": [
            "Loss: 0.20475243\n",
            "Accuracy: 0.94117647\n",
            "Precision: 0.95439517\n",
            "Recall 0.9848572\n",
            "F1_Score: 0.96900529\n",
            "Tempo de processamento da rede: 44,75795602798462\n",
            "Tempo de pre-processamento: 48,889897108078\n",
            "Tempo total: 365,69339752197266\n"
          ]
        }
      ]
    },
    {
      "cell_type": "code",
      "metadata": {
        "colab": {
          "base_uri": "https://localhost:8080/"
        },
        "id": "LEB6xLOO6BY5",
        "outputId": "6a6d5280-ae4c-44dd-be5a-1b4ee8d1f14e"
      },
      "source": [
        "from tabulate import tabulate\n",
        "\n",
        "table = [\n",
        "         [str(loss).replace(\".\",\",\")],\n",
        "         [str(accuracy).replace(\".\",\",\")],\n",
        "         [str(precision).replace(\".\",\",\")],\n",
        "         [str(recall).replace(\".\",\",\")],\n",
        "         [str(f1_score).replace(\".\",\",\")],\n",
        "         [str(elapsed_time).replace(\".\", \",\")],\n",
        "         [str(elapsed_time_pre).replace(\".\", \",\")],\n",
        "         [str(elapsedTotalTime).replace(\".\", \",\")]\n",
        "]\n",
        "\n",
        "print(tabulate(table))"
      ],
      "execution_count": null,
      "outputs": [
        {
          "output_type": "stream",
          "name": "stdout",
          "text": [
            "-------------------\n",
            "0,20475243031978607\n",
            "0,9411764740943909\n",
            "0,9543951749801636\n",
            "0,9848572015762329\n",
            "0,969005286693573\n",
            "44,75795602798462\n",
            "48,889897108078\n",
            "365,69339752197266\n",
            "-------------------\n"
          ]
        }
      ]
    },
    {
      "cell_type": "code",
      "metadata": {
        "colab": {
          "base_uri": "https://localhost:8080/",
          "height": 838
        },
        "id": "V1R6nr3mB-Si",
        "outputId": "c15e3618-5376-41f2-d2fa-062205539384"
      },
      "source": [
        "import matplotlib.pyplot as plt\n",
        "plt.plot(history.history['acc'])\n",
        "plt.plot(history.history['val_acc'])\n",
        "\n",
        "plt.title('Acurácia do modelo')\n",
        "plt.ylabel('acurácia')\n",
        "plt.xlabel('época')\n",
        "plt.legend(['treino','teste'], loc='upper left')\n",
        "plt.show()\n",
        "\n",
        "plt.plot(history.history['loss'])\n",
        "plt.plot(history.history['val_loss'])\n",
        "\n",
        "\n",
        "plt.title('Perda do modelo')\n",
        "plt.ylabel('perda')\n",
        "plt.xlabel('época')\n",
        "plt.legend(['treino','teste'], loc='upper left')\n",
        "plt.show()\n",
        "\n",
        "\n",
        "plt.plot(history.history['f1_m'])\n",
        "plt.plot(history.history['val_f1_m'])\n",
        "\n",
        "\n",
        "#plt.title('f1_score do modelo')\n",
        "plt.ylabel('f1_score')\n",
        "plt.xlabel('época')\n",
        "plt.legend(['treino','teste'], loc='upper left')\n",
        "plt.show()"
      ],
      "execution_count": null,
      "outputs": [
        {
          "output_type": "display_data",
          "data": {
            "text/plain": [
              "<Figure size 432x288 with 1 Axes>"
            ],
            "image/png": "[encoded data removed]"
          },
          "metadata": {
            "needs_background": "light"
          }
        },
        {
          "output_type": "display_data",
          "data": {
            "text/plain": [
              "<Figure size 432x288 with 1 Axes>"
            ],
            "image/png": "[encoded data removed]"
          },
          "metadata": {
            "needs_background": "light"
          }
        },
        {
          "output_type": "display_data",
          "data": {
            "text/plain": [
              "<Figure size 432x288 with 1 Axes>"
            ],
            "image/png": "[encoded data removed]"
          },
          "metadata": {
            "needs_background": "light"
          }
        }
      ]
    },
    {
      "cell_type": "code",
      "metadata": {
        "colab": {
          "base_uri": "https://localhost:8080/"
        },
        "id": "CNd5z8riCq3Y",
        "outputId": "2f06cce3-1cff-48f1-fd65-1d68670b6e0b"
      },
      "source": [
        "from sklearn.metrics import classification_report, confusion_matrix\n",
        "\n",
        "confusion_matrix(y_test, np.round(model.predict(X_test)))\n"
      ],
      "execution_count": null,
      "outputs": [
        {
          "output_type": "execute_result",
          "data": {
            "text/plain": [
              "array([[  3,   7],\n",
              "       [  2, 141]])"
            ]
          },
          "metadata": {},
          "execution_count": 33
        }
      ]
    },
    {
      "cell_type": "code",
      "metadata": {
        "colab": {
          "base_uri": "https://localhost:8080/"
        },
        "id": "-Rs9rGEqv1Tb",
        "outputId": "930a2d38-030f-4695-c249-ec75f51f568d"
      },
      "source": [
        "confusion_matrix(y_train, np.round(model.predict(X_train)))"
      ],
      "execution_count": null,
      "outputs": [
        {
          "output_type": "execute_result",
          "data": {
            "text/plain": [
              "array([[ 12,  12],\n",
              "       [  2, 330]])"
            ]
          },
          "metadata": {},
          "execution_count": 34
        }
      ]
    }
  ]
}